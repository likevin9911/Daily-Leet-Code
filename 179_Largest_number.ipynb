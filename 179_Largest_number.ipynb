{
  "nbformat": 4,
  "nbformat_minor": 0,
  "metadata": {
    "colab": {
      "provenance": [],
      "authorship_tag": "ABX9TyPtlyYoe3NO7k9e/ULcuuAh",
      "include_colab_link": true
    },
    "kernelspec": {
      "name": "python3",
      "display_name": "Python 3"
    },
    "language_info": {
      "name": "python"
    }
  },
  "cells": [
    {
      "cell_type": "markdown",
      "metadata": {
        "id": "view-in-github",
        "colab_type": "text"
      },
      "source": [
        "<a href=\"https://colab.research.google.com/github/likevin9911/Daily-Leet-Code/blob/main/179_Largest_number.ipynb\" target=\"_parent\"><img src=\"https://colab.research.google.com/assets/colab-badge.svg\" alt=\"Open In Colab\"/></a>"
      ]
    },
    {
      "cell_type": "code",
      "execution_count": 6,
      "metadata": {
        "colab": {
          "base_uri": "https://localhost:8080/"
        },
        "id": "2wP1UGw3UXRW",
        "outputId": "01c3722f-c110-45a8-b302-b1ce6568c04a"
      },
      "outputs": [
        {
          "output_type": "stream",
          "name": "stdout",
          "text": [
            "Largest number: 210\n",
            "Largest number: 9534330\n",
            "Largest number: 8423201\n",
            "Largest number: 0\n"
          ]
        }
      ],
      "source": [
        "from typing import List\n",
        "\n",
        "class Solution:\n",
        "    def largestNumber(self, nums: List[int]) -> str:\n",
        "        # convert number to string\n",
        "        for i in range(len(nums)):\n",
        "            nums[i] = str(nums[i])\n",
        "\n",
        "        # compare concatenated number strings\n",
        "        def compare(n1, n2):\n",
        "            return n1 + n2 > n2 + n1\n",
        "\n",
        "        # bubble sorting\n",
        "        for i in range(len(nums)):\n",
        "            for j in range(i + 1, len(nums)):\n",
        "                if not compare(nums[i], nums[j]):\n",
        "                    nums[j], nums[i] = nums[i], nums[j]\n",
        "\n",
        "        return str(int(\"\".join(nums)))\n",
        "\n",
        "# Driver code\n",
        "if __name__ == \"__main__\":\n",
        "    solution = Solution()\n",
        "\n",
        "    List = [10, 2]\n",
        "    print(\"Largest number:\", solution.largestNumber(List))\n",
        "\n",
        "    List = [3, 30, 34, 5, 9]\n",
        "    print(\"Largest number:\", solution.largestNumber(List))\n",
        "\n",
        "    List = [1, 20, 23, 4, 8]\n",
        "    print(\"Largest number:\", solution.largestNumber(List))\n",
        "\n",
        "    List = [0, 0]\n",
        "    print(\"Largest number:\", solution.largestNumber(List))\n",
        "\n"
      ]
    }
  ]
}