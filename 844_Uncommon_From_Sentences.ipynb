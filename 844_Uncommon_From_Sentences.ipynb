{
  "nbformat": 4,
  "nbformat_minor": 0,
  "metadata": {
    "colab": {
      "provenance": [],
      "authorship_tag": "ABX9TyMv2t/uCQJAZelzpPNicnaZ",
      "include_colab_link": true
    },
    "kernelspec": {
      "name": "python3",
      "display_name": "Python 3"
    },
    "language_info": {
      "name": "python"
    }
  },
  "cells": [
    {
      "cell_type": "markdown",
      "metadata": {
        "id": "view-in-github",
        "colab_type": "text"
      },
      "source": [
        "<a href=\"https://colab.research.google.com/github/likevin9911/Daily-Leet-Code/blob/main/844_Uncommon_From_Sentences.ipynb\" target=\"_parent\"><img src=\"https://colab.research.google.com/assets/colab-badge.svg\" alt=\"Open In Colab\"/></a>"
      ]
    },
    {
      "cell_type": "code",
      "execution_count": 2,
      "metadata": {
        "colab": {
          "base_uri": "https://localhost:8080/"
        },
        "id": "4kWkmcrs7zRx",
        "outputId": "6740a75d-a934-48cf-83be-ce230330bd6e"
      },
      "outputs": [
        {
          "output_type": "stream",
          "name": "stdout",
          "text": [
            "['sweet', 'sour']\n"
          ]
        }
      ],
      "source": [
        "from typing import List\n",
        "\n",
        "class Solution:\n",
        "    def uncommonFromSentences(self, s1: str, s2: str) -> List[str]:\n",
        "        # Split sentence by the space delimeter\n",
        "        l1 = s1.split(\" \")\n",
        "        l2 = s2.split(\" \")\n",
        "        # New list\n",
        "        l = []\n",
        "\n",
        "        # word only appears once and is not a word found in second sentence\n",
        "        for x in l1:\n",
        "            if l1.count(x) == 1 and x not in l2:\n",
        "                l.append(x)\n",
        "\n",
        "        # word only appears once and is not a word found in first sentence\n",
        "        for x in l2:\n",
        "            if l2.count(x) == 1 and x not in l1:\n",
        "                l.append(x)\n",
        "\n",
        "        return l\n",
        "\n",
        "# Driver code\n",
        "if __name__ == \"__main__\":\n",
        "    sol = Solution()\n",
        "\n",
        "    s1 = \"this apple is sweet\"\n",
        "    s2 = \"this apple is sour\"\n",
        "\n",
        "    result = sol.uncommonFromSentences(s1, s2)\n",
        "    print(result)  # Expected output: ['sweet', 'sour']\n"
      ]
    }
  ]
}