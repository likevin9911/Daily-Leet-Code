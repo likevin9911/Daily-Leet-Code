{
  "nbformat": 4,
  "nbformat_minor": 0,
  "metadata": {
    "colab": {
      "provenance": [],
      "authorship_tag": "ABX9TyPC1JbZy0hbFhF2yGa6ruVZ",
      "include_colab_link": true
    },
    "kernelspec": {
      "name": "python3",
      "display_name": "Python 3"
    },
    "language_info": {
      "name": "python"
    }
  },
  "cells": [
    {
      "cell_type": "markdown",
      "metadata": {
        "id": "view-in-github",
        "colab_type": "text"
      },
      "source": [
        "<a href=\"https://colab.research.google.com/github/likevin9911/Daily-Leet-Code/blob/main/1552_MagneticForceBetweenTwoBalls.ipynb\" target=\"_parent\"><img src=\"https://colab.research.google.com/assets/colab-badge.svg\" alt=\"Open In Colab\"/></a>"
      ]
    },
    {
      "cell_type": "code",
      "execution_count": 9,
      "metadata": {
        "colab": {
          "base_uri": "https://localhost:8080/"
        },
        "id": "h4ESgy0Iz3C8",
        "outputId": "e92d431e-d101-413c-eb94-9e71f8f3ad27"
      },
      "outputs": [
        {
          "output_type": "stream",
          "name": "stdout",
          "text": [
            "Overwriting MagneticForce_twoBalls.cpp\n"
          ]
        }
      ],
      "source": [
        "%%writefile MagneticForce_twoBalls.cpp\n",
        "#include <bits/stdc++.h>\n",
        "#include <cmath>\n",
        "#include <vector>\n",
        "using namespace std;\n",
        "class Solution {\n",
        "public:\n",
        "  bool canPlaceBalls(int x, vector<int>& position, int m) {\n",
        "    int prevPos = position[0];\n",
        "    int ballsPlaced = 1;\n",
        "    for(int i = 1; i < position.size() && ballsPlaced < m; ++i) {\n",
        "        int currPos = position[i];\n",
        "        if (currPos - prevPos >= x) {\n",
        "        ballsPlaced += 1;\n",
        "        prevPos = currPos;\n",
        "        }\n",
        "    }\n",
        "    return ballsPlaced == m;\n",
        "  }\n",
        "\n",
        "  int maxDistance(vector<int>& position, int m) {\n",
        "    int answer = 0;\n",
        "    int n = position.size();\n",
        "    sort(position.begin(), position.end());\n",
        "\n",
        "    int low = 1;\n",
        "    int high = ceil(position[n - 1] / (m - 1));\n",
        "    while (low <= high) {\n",
        "        int mid = (low + high) / 2;\n",
        "        if(canPlaceBalls(mid, position, m)) {\n",
        "            answer = mid;\n",
        "            low = mid + 1;\n",
        "        } else {\n",
        "            high = mid - 1;\n",
        "        }\n",
        "    }\n",
        "    return answer;\n",
        "  }\n",
        "};\n",
        "\n",
        "int main() {\n",
        "    vector<int> position = {1, 2, 3, 4, 7};\n",
        "    int m = 3;\n",
        "\n",
        "    Solution sol;\n",
        "    int result = sol.maxDistance(position, m);\n",
        "    cout << result << endl;\n",
        "\n",
        "    return 0;\n",
        "}\n"
      ]
    },
    {
      "cell_type": "code",
      "source": [
        "!g++ MagneticForce_twoBalls.cpp -o MagneticForce_twoBalls\n",
        "!./MagneticForce_twoBalls"
      ],
      "metadata": {
        "colab": {
          "base_uri": "https://localhost:8080/"
        },
        "id": "dqQ-Xx4I0Xut",
        "outputId": "f7a8d8e4-6235-4ae4-d4d0-4ba2c54e9193"
      },
      "execution_count": 10,
      "outputs": [
        {
          "output_type": "stream",
          "name": "stdout",
          "text": [
            "3\n"
          ]
        }
      ]
    }
  ]
}