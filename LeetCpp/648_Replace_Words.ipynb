{
  "nbformat": 4,
  "nbformat_minor": 0,
  "metadata": {
    "colab": {
      "provenance": [],
      "authorship_tag": "ABX9TyO9FRLk0kwfIIp2Hy42DeNj",
      "include_colab_link": true
    },
    "kernelspec": {
      "name": "python3",
      "display_name": "Python 3"
    },
    "language_info": {
      "name": "python"
    }
  },
  "cells": [
    {
      "cell_type": "markdown",
      "metadata": {
        "id": "view-in-github",
        "colab_type": "text"
      },
      "source": [
        "<a href=\"https://colab.research.google.com/github/likevin9911/Daily-Leet-Code/blob/main/648_Replace_Words.ipynb\" target=\"_parent\"><img src=\"https://colab.research.google.com/assets/colab-badge.svg\" alt=\"Open In Colab\"/></a>"
      ]
    },
    {
      "cell_type": "code",
      "execution_count": 6,
      "metadata": {
        "colab": {
          "base_uri": "https://localhost:8080/"
        },
        "id": "RucYaxZ2MHGP",
        "outputId": "a691df68-f085-4db6-d0dd-52eb12558193"
      },
      "outputs": [
        {
          "output_type": "stream",
          "name": "stdout",
          "text": [
            "Overwriting replace_words.cpp\n"
          ]
        }
      ],
      "source": [
        "%%writefile replace_words.cpp\n",
        "#include<iostream>\n",
        "#include<vector>\n",
        "#include<unordered_map>\n",
        "#include<sstream>\n",
        "using namespace std;\n",
        "\n",
        "struct TrieNode {\n",
        "    unordered_map<char, TrieNode*> children;\n",
        "    string word;\n",
        "\n",
        "    TrieNode() : word(\"\") {}\n",
        "};\n",
        "\n",
        "class Trie {\n",
        "public:\n",
        "    Trie() : root(new TrieNode()) {}\n",
        "\n",
        "    void insert(const string& word) {\n",
        "        TrieNode* node = root;\n",
        "        for (char ch : word) {\n",
        "            if (!node->children.count(ch)) {\n",
        "                node->children[ch] = new TrieNode();\n",
        "            }\n",
        "            node = node->children[ch];\n",
        "        }\n",
        "        node->word = word;\n",
        "    }\n",
        "    string findShortestRoot(const string& word) {\n",
        "        TrieNode* node = root;\n",
        "        for (char ch : word) {\n",
        "            if (node->children.count(ch)) {\n",
        "                node = node->children[ch];\n",
        "                if (!node->word.empty()) {\n",
        "                    return node->word;\n",
        "                }\n",
        "            } else {\n",
        "                break;\n",
        "            }\n",
        "        }\n",
        "        return word;\n",
        "    }\n",
        "\n",
        "private:\n",
        "    TrieNode* root;\n",
        "};\n",
        "\n",
        "class Solution {\n",
        "public:\n",
        "    string replaceWords(vector<string>& dictionary, string sentence) {\n",
        "        Trie trie;\n",
        "        for (const string& root : dictionary) {\n",
        "            trie.insert(root);\n",
        "        }\n",
        "\n",
        "        istringstream iss(sentence);\n",
        "            string word;\n",
        "            vector<string> words;\n",
        "        while (iss >> word) {\n",
        "            words.push_back(trie.findShortestRoot(word));\n",
        "        }\n",
        "\n",
        "        ostringstream oss;\n",
        "        for (int i = 0; i < words.size(); ++i) {\n",
        "            if (i > 0) oss << \" \";\n",
        "            oss << words[i];\n",
        "        }\n",
        "\n",
        "        return oss.str();\n",
        "    }\n",
        "};\n",
        "\n",
        "int main() {\n",
        "    vector<string> dictionary = {\"cat\", \"bat\", \"rat\"};\n",
        "    string sentence = \"the cattle was rattled by the battery\";\n",
        "    Solution solution;\n",
        "    string result = solution.replaceWords(dictionary, sentence);\n",
        "    cout << result << endl;\n",
        "}"
      ]
    },
    {
      "cell_type": "code",
      "source": [
        "!g++ replace_words.cpp -o replace_words\n",
        "!./replace_words"
      ],
      "metadata": {
        "colab": {
          "base_uri": "https://localhost:8080/"
        },
        "id": "vPWnDuQ0MeBF",
        "outputId": "1a3beccb-1218-4303-af52-82a38bd1c5f9"
      },
      "execution_count": 7,
      "outputs": [
        {
          "output_type": "stream",
          "name": "stdout",
          "text": [
            "the cat was rat by the bat\n"
          ]
        }
      ]
    }
  ]
}