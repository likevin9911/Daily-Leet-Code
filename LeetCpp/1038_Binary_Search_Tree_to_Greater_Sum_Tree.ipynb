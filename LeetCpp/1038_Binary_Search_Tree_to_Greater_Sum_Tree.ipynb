{
  "nbformat": 4,
  "nbformat_minor": 0,
  "metadata": {
    "colab": {
      "provenance": [],
      "authorship_tag": "ABX9TyNIRxSdlsR4J9RDn1tSeGd0",
      "include_colab_link": true
    },
    "kernelspec": {
      "name": "python3",
      "display_name": "Python 3"
    },
    "language_info": {
      "name": "python"
    }
  },
  "cells": [
    {
      "cell_type": "markdown",
      "metadata": {
        "id": "view-in-github",
        "colab_type": "text"
      },
      "source": [
        "<a href=\"https://colab.research.google.com/github/likevin9911/Daily-Leet-Code/blob/main/1038_Binary_Search_Tree_to_Greater_Sum_Tree.ipynb\" target=\"_parent\"><img src=\"https://colab.research.google.com/assets/colab-badge.svg\" alt=\"Open In Colab\"/></a>"
      ]
    },
    {
      "cell_type": "markdown",
      "source": [
        "1038. Binary Search Tree to Greater Sum Tree"
      ],
      "metadata": {
        "id": "bvWNOR_LXuG_"
      }
    },
    {
      "cell_type": "code",
      "source": [
        "%%writefile BST_GST.cpp\n",
        "#include <iostream>\n",
        "#include <vector>\n",
        "using namespace std;\n",
        "\n",
        "class TreeNode {\n",
        "public:\n",
        "    int val;\n",
        "    TreeNode *left;\n",
        "    TreeNode *right;\n",
        "    TreeNode(int x) : val(x), left(NULL), right(NULL) {}\n",
        "};\n",
        "\n",
        "class Solution {\n",
        "public:\n",
        "    TreeNode* bstToGst(TreeNode* root) {\n",
        "        int sum = 0;\n",
        "        TreeNode* node = root;\n",
        "\n",
        "        while (node != nullptr) {\n",
        "            if (node->right == nullptr) {\n",
        "                sum += node->val;\n",
        "                node->val = sum;\n",
        "                node = node->left;\n",
        "            } else {\n",
        "                TreeNode* succ = getSuccessor(node);\n",
        "                if (succ->left == nullptr) {\n",
        "                    succ->left = node;\n",
        "                    node = node->right;\n",
        "                } else {\n",
        "                    succ->left = nullptr;\n",
        "                    sum += node->val;\n",
        "                    node->val = sum;\n",
        "                    node = node->left;\n",
        "                }\n",
        "            }\n",
        "        }\n",
        "\n",
        "        return root;\n",
        "    }\n",
        "\n",
        "private:\n",
        "    TreeNode* getSuccessor(TreeNode* node) {\n",
        "        TreeNode* succ = node->right;\n",
        "        while (succ->left != nullptr && succ->left != node) {\n",
        "            succ = succ->left;\n",
        "        }\n",
        "        return succ;\n",
        "    }\n",
        "};\n",
        "\n",
        "// Helper function to insert nodes into the BST\n",
        "TreeNode* insertIntoBST(TreeNode* root, int val) {\n",
        "    if (root == nullptr) {\n",
        "        return new TreeNode(val);\n",
        "    }\n",
        "    if (val < root->val) {\n",
        "        root->left = insertIntoBST(root->left, val);\n",
        "    } else {\n",
        "        root->right = insertIntoBST(root->right, val);\n",
        "    }\n",
        "    return root;\n",
        "}\n",
        "\n",
        "// Helper function to print the tree in-order\n",
        "void inOrderTraversal(TreeNode* root) {\n",
        "    if (root != nullptr) {\n",
        "        inOrderTraversal(root->left);\n",
        "        cout << root->val << \" \";\n",
        "        inOrderTraversal(root->right);\n",
        "    }\n",
        "}\n",
        "\n",
        "int main() {\n",
        "    Solution solution;\n",
        "    vector<int> arr = {4,1,6,0,2,5,7,3,8};\n",
        "\n",
        "    TreeNode* root = nullptr;\n",
        "    for (int val : arr) {\n",
        "        root = insertIntoBST(root, val);\n",
        "    }\n",
        "\n",
        "    cout << \"Original BST in-order: \";\n",
        "    inOrderTraversal(root);\n",
        "    cout << endl;\n",
        "\n",
        "    root = solution.bstToGst(root);\n",
        "\n",
        "    cout << \"GST in-order: \";\n",
        "    inOrderTraversal(root);\n",
        "    cout << endl;\n",
        "\n",
        "    return 0;\n",
        "}"
      ],
      "metadata": {
        "colab": {
          "base_uri": "https://localhost:8080/"
        },
        "id": "BG8Fai1SXt0C",
        "outputId": "b4ef8d1c-107c-465d-db6e-e3a6e314200c"
      },
      "execution_count": 18,
      "outputs": [
        {
          "output_type": "stream",
          "name": "stdout",
          "text": [
            "Overwriting BST_GST.cpp\n"
          ]
        }
      ]
    },
    {
      "cell_type": "code",
      "execution_count": 19,
      "metadata": {
        "colab": {
          "base_uri": "https://localhost:8080/"
        },
        "id": "3mqZ2kuEXmZo",
        "outputId": "ca8b6656-3e3a-4ddd-bac3-60106097a625"
      },
      "outputs": [
        {
          "output_type": "stream",
          "name": "stdout",
          "text": [
            "Original BST in-order: 0 1 2 3 4 5 6 7 8 \n",
            "GST in-order: 36 36 35 33 30 26 21 15 8 \n"
          ]
        }
      ],
      "source": [
        "!g++ BST_GST.cpp -o BST_GST\n",
        "!./BST_GST"
      ]
    }
  ]
}