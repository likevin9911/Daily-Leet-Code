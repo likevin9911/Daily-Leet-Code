{
  "nbformat": 4,
  "nbformat_minor": 0,
  "metadata": {
    "colab": {
      "provenance": [],
      "authorship_tag": "ABX9TyNxiQ3L768Su47Pz3aCLs66",
      "include_colab_link": true
    },
    "kernelspec": {
      "name": "python3",
      "display_name": "Python 3"
    },
    "language_info": {
      "name": "python"
    }
  },
  "cells": [
    {
      "cell_type": "markdown",
      "metadata": {
        "id": "view-in-github",
        "colab_type": "text"
      },
      "source": [
        "<a href=\"https://colab.research.google.com/github/likevin9911/Daily-Leet-Code/blob/main/300_LongestIncreasingSubsequence.ipynb\" target=\"_parent\"><img src=\"https://colab.research.google.com/assets/colab-badge.svg\" alt=\"Open In Colab\"/></a>"
      ]
    },
    {
      "cell_type": "code",
      "execution_count": 1,
      "metadata": {
        "colab": {
          "base_uri": "https://localhost:8080/"
        },
        "id": "5WFFv4MZ1fhJ",
        "outputId": "0e912a64-a1e7-4120-c7e7-8700808ba0ec"
      },
      "outputs": [
        {
          "output_type": "stream",
          "name": "stdout",
          "text": [
            "Writing Longest_subsequence.cpp\n"
          ]
        }
      ],
      "source": [
        "%%writefile Longest_subsequence.cpp\n",
        "#include <bits/stdc++.h>\n",
        "#include <iostream>\n",
        "\n",
        "using namespace std;\n",
        "\n",
        "class Solution {\n",
        "public:\n",
        "    int lengthOfLIS(vector<int>& nums) {\n",
        "        int n = nums.size();\n",
        "        vector<int> dp(n, 1);\n",
        "        for (int i = 0; i < n; ++i)\n",
        "            for (int j = 0; j < i; ++j)\n",
        "                if (nums[i] > nums[j] && dp[i] < dp[j] + 1)\n",
        "                    dp[i] = dp[j] + 1;\n",
        "        return *max_element(dp.begin(), dp.end());\n",
        "    }\n",
        "};\n",
        "\n",
        "int main() {\n",
        "    vector<int> nums = {10, 9, 2, 5, 3, 7, 101, 18};\n",
        "    Solution s;\n",
        "    cout << s.lengthOfLIS(nums) << endl;\n",
        "}"
      ]
    },
    {
      "cell_type": "code",
      "source": [
        "!g++ Longest_subsequence.cpp -o Longest_subsequence\n",
        "!./Longest_subsequence"
      ],
      "metadata": {
        "colab": {
          "base_uri": "https://localhost:8080/"
        },
        "id": "LIAkfr9H1yqv",
        "outputId": "73695872-750b-4880-ab32-ec02074b77ac"
      },
      "execution_count": 2,
      "outputs": [
        {
          "output_type": "stream",
          "name": "stdout",
          "text": [
            "4\n"
          ]
        }
      ]
    }
  ]
}