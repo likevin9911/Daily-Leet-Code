{
  "nbformat": 4,
  "nbformat_minor": 0,
  "metadata": {
    "colab": {
      "provenance": [],
      "authorship_tag": "ABX9TyPyqii2crTLxODNbaUiEHjY",
      "include_colab_link": true
    },
    "kernelspec": {
      "name": "python3",
      "display_name": "Python 3"
    },
    "language_info": {
      "name": "python"
    }
  },
  "cells": [
    {
      "cell_type": "markdown",
      "metadata": {
        "id": "view-in-github",
        "colab_type": "text"
      },
      "source": [
        "<a href=\"https://colab.research.google.com/github/likevin9911/Daily-Leet-Code/blob/main/945_MinimumIncrementtoMakeArrayUnique.ipynb\" target=\"_parent\"><img src=\"https://colab.research.google.com/assets/colab-badge.svg\" alt=\"Open In Colab\"/></a>"
      ]
    },
    {
      "cell_type": "markdown",
      "source": [
        "You are given an integer array nums. In one move, you can pick an index i where 0 <= i < nums.length and increment nums[i] by 1.\n",
        "\n",
        "Return the minimum number of moves to make every value in nums unique.\n",
        "\n",
        "The test cases are generated so that the answer fits in a 32-bit integer.\n",
        "\n",
        "\n",
        "\n",
        "Example 1:\n",
        "\n",
        "Input: nums = [1,2,2]\n",
        "Output: 1\n",
        "Explanation: After 1 move, the array could be [1, 2, 3].\n",
        "Example 2:\n",
        "\n",
        "Input: nums = [3,2,1,2,1,7]\n",
        "Output: 6\n",
        "Explanation: After 6 moves, the array could be [3, 4, 1, 2, 5, 7].\n",
        "It can be shown with 5 or less moves that it is impossible for the array to have all unique values.\n",
        "\n",
        "\n",
        "Constraints:\n",
        "\n",
        "1 <= nums.length <= 105\n",
        "0 <= nums[i] <= 105"
      ],
      "metadata": {
        "id": "OIqAVpb0KZd6"
      }
    },
    {
      "cell_type": "code",
      "execution_count": 1,
      "metadata": {
        "colab": {
          "base_uri": "https://localhost:8080/"
        },
        "id": "0Tu3D7gnC9at",
        "outputId": "e75005e1-8c86-44e3-9013-c0cf0fc3f12a"
      },
      "outputs": [
        {
          "output_type": "stream",
          "name": "stdout",
          "text": [
            "Writing minIncrementUnique.cpp\n"
          ]
        }
      ],
      "source": [
        "%%writefile minIncrementUnique.cpp\n",
        "#include<iostream>\n",
        "#include<vector>\n",
        "#include<algorithm>\n",
        "\n",
        "using namespace std;\n",
        "\n",
        "class Solution {\n",
        "public:\n",
        "    int minIncrementForUnique(vector<int>& nums) {\n",
        "        int count = 0;\n",
        "        sort(nums.begin(), nums.end());\n",
        "\n",
        "        for (int i = 1; i < nums.size(); i++) {\n",
        "            if (nums[i] <= nums[i - 1]) {\n",
        "                int increments = nums[i - 1] + 1 - nums[i];;\n",
        "                count += increments;\n",
        "                nums[i] = nums[i - 1] + 1;\n",
        "            }\n",
        "        }\n",
        "\n",
        "        return count;\n",
        "    }\n",
        "};\n",
        "\n",
        "int main() {\n",
        "    Solution s;\n",
        "    vector<int> nums = {3,2,1,2,1,7};\n",
        "    cout << s.minIncrementForUnique(nums) << endl;\n",
        "}"
      ]
    },
    {
      "cell_type": "code",
      "source": [
        "!g++ minIncrementUnique.cpp -o minIncrementUnique.exe\n",
        "!./minIncrementUnique.exe"
      ],
      "metadata": {
        "colab": {
          "base_uri": "https://localhost:8080/"
        },
        "id": "PaqqjZSXKScb",
        "outputId": "7b48c5a8-ab64-459b-ab30-12835d9dae79"
      },
      "execution_count": 2,
      "outputs": [
        {
          "output_type": "stream",
          "name": "stdout",
          "text": [
            "6\n"
          ]
        }
      ]
    }
  ]
}