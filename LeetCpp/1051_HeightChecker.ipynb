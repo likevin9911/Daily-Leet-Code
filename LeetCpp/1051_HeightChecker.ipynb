{
  "nbformat": 4,
  "nbformat_minor": 0,
  "metadata": {
    "colab": {
      "provenance": [],
      "authorship_tag": "ABX9TyPrNK1JN10rIO0BU7sAieeY",
      "include_colab_link": true
    },
    "kernelspec": {
      "name": "python3",
      "display_name": "Python 3"
    },
    "language_info": {
      "name": "python"
    }
  },
  "cells": [
    {
      "cell_type": "markdown",
      "metadata": {
        "id": "view-in-github",
        "colab_type": "text"
      },
      "source": [
        "<a href=\"https://colab.research.google.com/github/likevin9911/Daily-Leet-Code/blob/main/1051_HeightChecker.ipynb\" target=\"_parent\"><img src=\"https://colab.research.google.com/assets/colab-badge.svg\" alt=\"Open In Colab\"/></a>"
      ]
    },
    {
      "cell_type": "code",
      "execution_count": 1,
      "metadata": {
        "colab": {
          "base_uri": "https://localhost:8080/"
        },
        "id": "MSpiwHFcJk53",
        "outputId": "cb02051f-972f-440f-c5d6-2ac5fa563cb3"
      },
      "outputs": [
        {
          "output_type": "stream",
          "name": "stdout",
          "text": [
            "Writing bubbleSort.cpp\n"
          ]
        }
      ],
      "source": [
        "%%writefile bubbleSort.cpp\n",
        "#include <iostream>\n",
        "#include <vector>\n",
        "\n",
        "using namespace std;\n",
        "class Solution {\n",
        "public:\n",
        "    void bubbleSort(vector<int>& arr) {\n",
        "        int n = arr.size();\n",
        "        for (int i = 0; i < n - 1; i++) {\n",
        "            for (int j = 0; j < n - i - 1; j++ ) {\n",
        "                if (arr[j] > arr[j+1]) {\n",
        "                    swap(arr[j], arr[j + 1]);\n",
        "                }\n",
        "            }\n",
        "        }\n",
        "    }\n",
        "\n",
        "    int heightChecker(vector<int>& heights) {\n",
        "        vector<int> sortedHeights = heights;\n",
        "        bubbleSort(sortedHeights);\n",
        "\n",
        "        int count = 0;\n",
        "\n",
        "        for (int i = 0; i < sortedHeights.size(); i++) {\n",
        "            if (heights[i] != sortedHeights[i]) {\n",
        "                count += 1;\n",
        "            }\n",
        "        }\n",
        "        return count;\n",
        "    }\n",
        "\n",
        "};\n",
        "\n",
        "int main() {\n",
        "    Solution solution;\n",
        "    vector<int> heights = {1, 1, 4, 2, 1, 3};\n",
        "    cout << solution.heightChecker(heights) << endl;\n",
        "    return 0;\n",
        "}"
      ]
    },
    {
      "cell_type": "code",
      "source": [
        "!g++ bubbleSort.cpp -o bubbleSort.exe"
      ],
      "metadata": {
        "id": "cTli1j_kKCfS"
      },
      "execution_count": 2,
      "outputs": []
    },
    {
      "cell_type": "code",
      "source": [
        "!pwd\n",
        "!./bubbleSort.exe"
      ],
      "metadata": {
        "colab": {
          "base_uri": "https://localhost:8080/"
        },
        "id": "exlSXZFXKGXg",
        "outputId": "c4dfb998-78f2-4328-af30-fca3245c0f63"
      },
      "execution_count": 5,
      "outputs": [
        {
          "output_type": "stream",
          "name": "stdout",
          "text": [
            "/content\n",
            "3\n"
          ]
        }
      ]
    }
  ]
}