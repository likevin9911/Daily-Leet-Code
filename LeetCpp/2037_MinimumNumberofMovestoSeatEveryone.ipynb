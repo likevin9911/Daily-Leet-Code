{
  "nbformat": 4,
  "nbformat_minor": 0,
  "metadata": {
    "colab": {
      "provenance": [],
      "authorship_tag": "ABX9TyMl19I/179luGiRvOSpWVVu",
      "include_colab_link": true
    },
    "kernelspec": {
      "name": "python3",
      "display_name": "Python 3"
    },
    "language_info": {
      "name": "python"
    }
  },
  "cells": [
    {
      "cell_type": "markdown",
      "metadata": {
        "id": "view-in-github",
        "colab_type": "text"
      },
      "source": [
        "<a href=\"https://colab.research.google.com/github/likevin9911/Daily-Leet-Code/blob/main/2037_MinimumNumberofMovestoSeatEveryone.ipynb\" target=\"_parent\"><img src=\"https://colab.research.google.com/assets/colab-badge.svg\" alt=\"Open In Colab\"/></a>"
      ]
    },
    {
      "cell_type": "markdown",
      "source": [
        "There are n seats and n students in a room. You are given an array seats of length n, where seats[i] is the position of the ith seat. You are also given the array students of length n, where students[j] is the position of the jth student.\n",
        "\n",
        "You may perform the following move any number of times:\n",
        "\n",
        "Increase or decrease the position of the ith student by 1 (i.e., moving the ith student from position x to x + 1 or x - 1)\n",
        "Return the minimum number of moves required to move each student to a seat such that no two students are in the same seat.\n",
        "\n",
        "Note that there may be multiple seats or students in the same position at the beginning.\n",
        "\n",
        "\n",
        "\n",
        "Example 1:\n",
        "\n",
        "Input: seats = [3,1,5], students = [2,7,4]\n",
        "Output: 4\n",
        "Explanation: The students are moved as follows:\n",
        "- The first student is moved from from position 2 to position 1 using 1 move.\n",
        "- The second student is moved from from position 7 to position 5 using 2 moves.\n",
        "- The third student is moved from from position 4 to position 3 using 1 move.\n",
        "In total, 1 + 2 + 1 = 4 moves were used.\n",
        "Example 2:\n",
        "\n",
        "Input: seats = [4,1,5,9], students = [1,3,2,6]\n",
        "Output: 7\n",
        "Explanation: The students are moved as follows:\n",
        "- The first student is not moved.\n",
        "- The second student is moved from from position 3 to position 4 using 1 move.\n",
        "- The third student is moved from from position 2 to position 5 using 3 moves.\n",
        "- The fourth student is moved from from position 6 to position 9 using 3 moves.\n",
        "In total, 0 + 1 + 3 + 3 = 7 moves were used.\n",
        "Example 3:\n",
        "\n",
        "Input: seats = [2,2,6,6], students = [1,3,2,6]\n",
        "Output: 4\n",
        "Explanation: Note that there are two seats at position 2 and two seats at position 6.\n",
        "The students are moved as follows:\n",
        "- The first student is moved from from position 1 to position 2 using 1 move.\n",
        "- The second student is moved from from position 3 to position 6 using 3 moves.\n",
        "- The third student is not moved.\n",
        "- The fourth student is not moved.\n",
        "In total, 1 + 3 + 0 + 0 = 4 moves were used.\n",
        "\n",
        "\n",
        "**Constraints:**\n",
        "\n",
        "n == seats.length == students.length\n",
        "1 <= n <= 100\n",
        "1 <= seats[i], students[j] <= 100"
      ],
      "metadata": {
        "id": "93jCXKC6_MXi"
      }
    },
    {
      "cell_type": "code",
      "source": [
        "%%writefile minmoves.cpp\n",
        "#include<iostream>\n",
        "#include<vector>\n",
        "#include<algorithm>\n",
        "\n",
        "using namespace std;\n",
        "\n",
        "class Solution {\n",
        "public:\n",
        "    int minMovesToSeat(vector<int>& seats, vector<int>& students) {\n",
        "        sort(seats.begin(), seats.end());\n",
        "        sort(students.begin(), students.end());\n",
        "        int moves = 0;\n",
        "\n",
        "        for (int i = 0; i < seats.size(); ++i) {\n",
        "            moves += abs(seats[i] - students[i]);\n",
        "        }\n",
        "        return moves;\n",
        "    }\n",
        "};\n",
        "\n",
        "int main() {\n",
        "    Solution solution;\n",
        "    vector<int> seats = {3, 1, 5};\n",
        "    vector<int> students = {2, 7, 4};\n",
        "    cout << solution.minMovesToSeat(seats, students);\n",
        "    return 0;\n",
        "}\n"
      ],
      "metadata": {
        "colab": {
          "base_uri": "https://localhost:8080/"
        },
        "id": "UD8Kmw-TE8Kd",
        "outputId": "effc4756-0b91-4775-f4a1-04006404cb42"
      },
      "execution_count": 27,
      "outputs": [
        {
          "output_type": "stream",
          "name": "stdout",
          "text": [
            "Overwriting minmoves.cpp\n"
          ]
        }
      ]
    },
    {
      "cell_type": "code",
      "source": [
        "# Step 2: Compile the C++ file\n",
        "!g++ minmoves.cpp -o minmoves\n",
        "\n",
        "# Step 3: Run the compiled executable\n",
        "!./minmoves\n"
      ],
      "metadata": {
        "colab": {
          "base_uri": "https://localhost:8080/"
        },
        "id": "kzo2zMIzFAob",
        "outputId": "234a8e9f-8290-4ba9-9a21-44d2e1fe138b"
      },
      "execution_count": 28,
      "outputs": [
        {
          "output_type": "stream",
          "name": "stdout",
          "text": [
            "4"
          ]
        }
      ]
    }
  ]
}