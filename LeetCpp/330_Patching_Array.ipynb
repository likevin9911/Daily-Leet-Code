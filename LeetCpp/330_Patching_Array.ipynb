{
  "nbformat": 4,
  "nbformat_minor": 0,
  "metadata": {
    "colab": {
      "provenance": [],
      "authorship_tag": "ABX9TyNvFH9xOjWUwbYqi2Kpnk1n",
      "include_colab_link": true
    },
    "kernelspec": {
      "name": "python3",
      "display_name": "Python 3"
    },
    "language_info": {
      "name": "python"
    }
  },
  "cells": [
    {
      "cell_type": "markdown",
      "metadata": {
        "id": "view-in-github",
        "colab_type": "text"
      },
      "source": [
        "<a href=\"https://colab.research.google.com/github/likevin9911/Daily-Leet-Code/blob/main/330_Patching_Array.ipynb\" target=\"_parent\"><img src=\"https://colab.research.google.com/assets/colab-badge.svg\" alt=\"Open In Colab\"/></a>"
      ]
    },
    {
      "cell_type": "markdown",
      "source": [
        "Given a sorted integer array nums and an integer n, add/patch elements to the array such that any number in the range [1, n] inclusive can be formed by the sum of some elements in the array.\n",
        "\n",
        "Return the minimum number of patches required.\n",
        "\n",
        "\n",
        "\n",
        "Example 1:\n",
        "\n",
        "Input: nums = [1,3], n = 6\n",
        "Output: 1\n",
        "Explanation:\n",
        "Combinations of nums are [1], [3], [1,3], which form possible sums of: 1, 3, 4.\n",
        "Now if we add/patch 2 to nums, the combinations are: [1], [2], [3], [1,3], [2,3], [1,2,3].\n",
        "Possible sums are 1, 2, 3, 4, 5, 6, which now covers the range [1, 6].\n",
        "So we only need 1 patch.\n",
        "Example 2:\n",
        "\n",
        "Input: nums = [1,5,10], n = 20\n",
        "Output: 2\n",
        "Explanation: The two patches can be [2, 4].\n",
        "Example 3:\n",
        "\n",
        "Input: nums = [1,2,2], n = 5\n",
        "Output: 0\n",
        "\n",
        "\n",
        "Constraints:\n",
        "\n",
        "1 <= nums.length <= 1000\n",
        "1 <= nums[i] <= 104\n",
        "nums is sorted in ascending order.\n",
        "1 <= n <= 231 - 1"
      ],
      "metadata": {
        "id": "-nwawHfbxvZg"
      }
    },
    {
      "cell_type": "code",
      "execution_count": 8,
      "metadata": {
        "colab": {
          "base_uri": "https://localhost:8080/"
        },
        "id": "PFLQGf3qwKon",
        "outputId": "458d2e98-e680-4cdb-ea97-42645c5466b5"
      },
      "outputs": [
        {
          "output_type": "stream",
          "name": "stdout",
          "text": [
            "Overwriting minPatches.cpp\n"
          ]
        }
      ],
      "source": [
        "%%writefile minPatches.cpp\n",
        "\n",
        "#include<iostream>\n",
        "#include<vector>\n",
        "#include<algorithm>\n",
        "\n",
        "using namespace std;\n",
        "\n",
        "class Solution {\n",
        "public:\n",
        "    int minPatches(vector<int>& nums, int n) {\n",
        "        long long int combine = 0;\n",
        "        int count = 0;\n",
        "        int i = 0;\n",
        "\n",
        "        while (combine < n) {\n",
        "            if(i < nums.size() && nums[i] <= combine + 1) {\n",
        "                combine = combine + nums[i++];\n",
        "            } else {\n",
        "                count++;\n",
        "                combine = combine * 2 + 1;\n",
        "            }\n",
        "        }\n",
        "\n",
        "        return count;\n",
        "    }\n",
        "};\n",
        "\n",
        "int main() {\n",
        "  Solution s;\n",
        "  vector<int> nums = {1, 3};\n",
        "  int n = 6;\n",
        "  vector<int> nums2 = {1, 5, 10};\n",
        "  int n2 = 20;\n",
        "  cout << s.minPatches(nums, n) << endl;\n",
        "  cout << s.minPatches(nums2, n2) << endl;\n",
        "}"
      ]
    },
    {
      "cell_type": "code",
      "source": [
        "!g++ minPatches.cpp -o minPatches\n",
        "!./minPatches"
      ],
      "metadata": {
        "colab": {
          "base_uri": "https://localhost:8080/"
        },
        "id": "d5ElbWH7wvii",
        "outputId": "11196bf8-154c-4209-8d77-e58cc3cdd02a"
      },
      "execution_count": 9,
      "outputs": [
        {
          "output_type": "stream",
          "name": "stdout",
          "text": [
            "1\n",
            "2\n"
          ]
        }
      ]
    }
  ]
}