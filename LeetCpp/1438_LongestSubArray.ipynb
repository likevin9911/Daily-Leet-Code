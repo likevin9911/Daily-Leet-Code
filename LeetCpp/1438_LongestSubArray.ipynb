{
  "nbformat": 4,
  "nbformat_minor": 0,
  "metadata": {
    "colab": {
      "provenance": [],
      "authorship_tag": "ABX9TyMm1RSPm1i4hTrAq3C/kinK",
      "include_colab_link": true
    },
    "kernelspec": {
      "name": "python3",
      "display_name": "Python 3"
    },
    "language_info": {
      "name": "python"
    }
  },
  "cells": [
    {
      "cell_type": "markdown",
      "metadata": {
        "id": "view-in-github",
        "colab_type": "text"
      },
      "source": [
        "<a href=\"https://colab.research.google.com/github/likevin9911/Daily-Leet-Code/blob/main/1438_LongestSubArray.ipynb\" target=\"_parent\"><img src=\"https://colab.research.google.com/assets/colab-badge.svg\" alt=\"Open In Colab\"/></a>"
      ]
    },
    {
      "cell_type": "markdown",
      "source": [
        "1438. Longest Continuous Subarray With Absolute Diff Less Than or Equal to Limit"
      ],
      "metadata": {
        "id": "sl62cXNIzKRr"
      }
    },
    {
      "cell_type": "code",
      "execution_count": 1,
      "metadata": {
        "colab": {
          "base_uri": "https://localhost:8080/"
        },
        "id": "owjOZcVSzFGn",
        "outputId": "c138be75-0e80-45b8-e743-b5b445148844"
      },
      "outputs": [
        {
          "output_type": "stream",
          "name": "stdout",
          "text": [
            "Writing longestSubarray.cpp\n"
          ]
        }
      ],
      "source": [
        "%%writefile longestSubarray.cpp\n",
        "#include <bits/stdc++.h>\n",
        "#include <iostream>\n",
        "#include <vector>\n",
        "#include <queue>\n",
        "\n",
        "using namespace std;\n",
        "\n",
        "class Solution {\n",
        "public:\n",
        "    int longestSubarray(vector<int>& nums, int limit) {\n",
        "        priority_queue<pair<int, int>> maxHeap;\n",
        "        priority_queue<pair<int, int>, vector<pair<int, int>>, greater<pair<int,int>>>minHeap;\n",
        "\n",
        "        //start of sliding window\n",
        "        int left = 0;\n",
        "        int maxLength = 0;\n",
        "\n",
        "        for(int right = 0; right < nums.size(); ++right) {\n",
        "            maxHeap.push({nums[right], right});\n",
        "            minHeap.push({nums[right], right});\n",
        "            while (maxHeap.top().first - minHeap.top().first > limit) {\n",
        "                left = min(maxHeap.top().second, minHeap.top().second) + 1;\n",
        "\n",
        "                while (maxHeap.top().second < left) {\n",
        "                    maxHeap.pop();\n",
        "                }\n",
        "                while (minHeap.top().second < left) {\n",
        "                    minHeap.pop();\n",
        "                }\n",
        "            }\n",
        "            maxLength = max(maxLength, right - left + 1);\n",
        "        }\n",
        "        return maxLength;\n",
        "    }\n",
        "};\n",
        "\n",
        "int main() {\n",
        "    Solution solution;\n",
        "    vector<int> nums = {8,2,4,7};\n",
        "    int limit = 4;\n",
        "    cout << solution.longestSubarray(nums, limit) << endl;\n",
        "}"
      ]
    },
    {
      "cell_type": "code",
      "source": [
        "!g++ longestSubarray.cpp -o longestSubarray\n",
        "!./longestSubarray"
      ],
      "metadata": {
        "colab": {
          "base_uri": "https://localhost:8080/"
        },
        "id": "8t3NYHChziJb",
        "outputId": "b804e841-82e3-4dbf-d3ef-0d1f13f19a09"
      },
      "execution_count": 2,
      "outputs": [
        {
          "output_type": "stream",
          "name": "stdout",
          "text": [
            "2\n"
          ]
        }
      ]
    }
  ]
}