{
  "nbformat": 4,
  "nbformat_minor": 0,
  "metadata": {
    "colab": {
      "provenance": [],
      "authorship_tag": "ABX9TyPMVZEMKh8LFWrib8DSb+Oc",
      "include_colab_link": true
    },
    "kernelspec": {
      "name": "python3",
      "display_name": "Python 3"
    },
    "language_info": {
      "name": "python"
    }
  },
  "cells": [
    {
      "cell_type": "markdown",
      "metadata": {
        "id": "view-in-github",
        "colab_type": "text"
      },
      "source": [
        "<a href=\"https://colab.research.google.com/github/likevin9911/Daily-Leet-Code/blob/main/2285_Maximum_Total_Importance_of_Roads.ipynb\" target=\"_parent\"><img src=\"https://colab.research.google.com/assets/colab-badge.svg\" alt=\"Open In Colab\"/></a>"
      ]
    },
    {
      "cell_type": "code",
      "execution_count": 1,
      "metadata": {
        "colab": {
          "base_uri": "https://localhost:8080/"
        },
        "id": "jP9MoaQBlh8b",
        "outputId": "10f7c683-219a-4f03-f1cf-e0930d34937b"
      },
      "outputs": [
        {
          "output_type": "stream",
          "name": "stdout",
          "text": [
            "Writing max_importance.cpp\n"
          ]
        }
      ],
      "source": [
        "%%writefile max_importance.cpp\n",
        "#include <bits/stdc++.h>\n",
        "#include <iostream>\n",
        "#include <vector>\n",
        "\n",
        "using namespace std;\n",
        "\n",
        "class Solution {\n",
        "public:\n",
        "    long long maximumImportance(int n, vector<vector<int>>& roads) {\n",
        "        vector<int> deg(n);\n",
        "        for (auto& e : roads) {\n",
        "            deg[e[0]]++;\n",
        "            deg[e[1]]++;\n",
        "        }\n",
        "\n",
        "        sort(deg.begin(), deg.end());\n",
        "        long long ans =0;\n",
        "        for (int i = 0; i < n; i++) {\n",
        "            ans += (i + 1ll) * deg[i];\n",
        "        }\n",
        "        return ans;\n",
        "    }\n",
        "};\n",
        "\n",
        "int main() {\n",
        "  Solution Solution;\n",
        "  int n = 5;\n",
        "  vector<vector<int>> roads = {{0,1},{0,2},{1,3},{1,4}};\n",
        "  cout << Solution.maximumImportance(n, roads) << endl;\n",
        "  return 0;\n",
        "}"
      ]
    },
    {
      "cell_type": "code",
      "source": [
        "!g++ max_importance.cpp -o max_importance\n",
        "!./max_importance"
      ],
      "metadata": {
        "colab": {
          "base_uri": "https://localhost:8080/"
        },
        "id": "9F4rLvrfmB5y",
        "outputId": "f43a559e-96cf-40db-d877-1d97420865d0"
      },
      "execution_count": 2,
      "outputs": [
        {
          "output_type": "stream",
          "name": "stdout",
          "text": [
            "29\n"
          ]
        }
      ]
    }
  ]
}