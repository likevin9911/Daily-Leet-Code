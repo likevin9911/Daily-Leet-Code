{
  "nbformat": 4,
  "nbformat_minor": 0,
  "metadata": {
    "colab": {
      "provenance": [],
      "authorship_tag": "ABX9TyNL/JKBBBe33UJaEEsjnxJc",
      "include_colab_link": true
    },
    "kernelspec": {
      "name": "python3",
      "display_name": "Python 3"
    },
    "language_info": {
      "name": "python"
    }
  },
  "cells": [
    {
      "cell_type": "markdown",
      "metadata": {
        "id": "view-in-github",
        "colab_type": "text"
      },
      "source": [
        "<a href=\"https://colab.research.google.com/github/likevin9911/Daily-Leet-Code/blob/main/502_IPO.ipynb\" target=\"_parent\"><img src=\"https://colab.research.google.com/assets/colab-badge.svg\" alt=\"Open In Colab\"/></a>"
      ]
    },
    {
      "cell_type": "code",
      "execution_count": 1,
      "metadata": {
        "colab": {
          "base_uri": "https://localhost:8080/"
        },
        "id": "jXpeaI2lFSVV",
        "outputId": "5a694249-16dc-405c-9b07-c867f1c265ef"
      },
      "outputs": [
        {
          "output_type": "stream",
          "name": "stdout",
          "text": [
            "Writing find_maximized_capital.cpp\n"
          ]
        }
      ],
      "source": [
        "%%writefile find_maximized_capital.cpp\n",
        "#include <iostream>\n",
        "#include <vector>\n",
        "#include <queue>\n",
        "\n",
        "using namespace std;\n",
        "\n",
        "class Solution {\n",
        "public:\n",
        "    int findMaximizedCapital(int k, int w, vector<int>& profits, vector<int>& capital) {\n",
        "        vector<pair<int, int>> projects;\n",
        "\n",
        "        // Populate the projects vector with pairs of (capital, profit)\n",
        "        for (int i = 0; i < profits.size(); ++i) {\n",
        "            projects.emplace_back(capital[i], profits[i]);\n",
        "        }\n",
        "\n",
        "        // Sort projects based on their capital requirement\n",
        "        sort(projects.begin(), projects.end());\n",
        "\n",
        "        priority_queue<int> maxHeap;\n",
        "        int i = 0;\n",
        "\n",
        "        // Try to complete up to k projects\n",
        "        for (int j = 0; j < k; ++j) {\n",
        "            // Push all projects that can be completed with the current capital into the maxHeap\n",
        "            while (i < projects.size() && projects[i].first <= w) {\n",
        "                maxHeap.push(projects[i].second);\n",
        "                i++;\n",
        "            }\n",
        "\n",
        "            // If no projects can be completed, break\n",
        "            if (maxHeap.empty()) {\n",
        "                break;\n",
        "            }\n",
        "\n",
        "            // Add the profit of the project with the highest profit\n",
        "            w += maxHeap.top();\n",
        "            maxHeap.pop();\n",
        "        }\n",
        "\n",
        "        return w;\n",
        "    }\n",
        "};\n",
        "\n",
        "int main() {\n",
        "    Solution solution;\n",
        "    int k = 2;\n",
        "    int w = 0;\n",
        "    vector<int> profits = {1, 2, 3};\n",
        "    vector<int> capital = {0, 1, 1};\n",
        "    int result = solution.findMaximizedCapital(k, w, profits, capital);\n",
        "    cout << result << endl; // Output should be 4\n",
        "    return 0;\n",
        "}"
      ]
    },
    {
      "cell_type": "code",
      "source": [
        "!g++ find_maximized_capital.cpp -o find_maximized_capital\n",
        "!./find_maximized_capital"
      ],
      "metadata": {
        "colab": {
          "base_uri": "https://localhost:8080/"
        },
        "id": "_EhfFBtuPPuY",
        "outputId": "6c853517-9ed9-4df2-f640-8453d80a676d"
      },
      "execution_count": 2,
      "outputs": [
        {
          "output_type": "stream",
          "name": "stdout",
          "text": [
            "\u001b[01m\u001b[Kfind_maximized_capital.cpp:\u001b[m\u001b[K In member function ‘\u001b[01m\u001b[Kint Solution::findMaximizedCapital(int, int, std::vector<int>&, std::vector<int>&)\u001b[m\u001b[K’:\n",
            "\u001b[01m\u001b[Kfind_maximized_capital.cpp:19:9:\u001b[m\u001b[K \u001b[01;31m\u001b[Kerror: \u001b[m\u001b[K‘\u001b[01m\u001b[Ksort\u001b[m\u001b[K’ was not declared in this scope; did you mean ‘\u001b[01m\u001b[Kshort\u001b[m\u001b[K’?\n",
            "   19 |         \u001b[01;31m\u001b[Ksort\u001b[m\u001b[K(projects.begin(), projects.end());\n",
            "      |         \u001b[01;31m\u001b[K^~~~\u001b[m\u001b[K\n",
            "      |         \u001b[32m\u001b[Kshort\u001b[m\u001b[K\n",
            "/bin/bash: line 1: ./find_maximized_capital: No such file or directory\n"
          ]
        }
      ]
    }
  ]
}