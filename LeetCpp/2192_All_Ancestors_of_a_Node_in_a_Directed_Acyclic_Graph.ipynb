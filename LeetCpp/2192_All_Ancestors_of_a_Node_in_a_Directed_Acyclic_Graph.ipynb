{
  "nbformat": 4,
  "nbformat_minor": 0,
  "metadata": {
    "colab": {
      "provenance": [],
      "authorship_tag": "ABX9TyN+RBBOeoRdDBR5XUllINE7",
      "include_colab_link": true
    },
    "kernelspec": {
      "name": "python3",
      "display_name": "Python 3"
    },
    "language_info": {
      "name": "python"
    }
  },
  "cells": [
    {
      "cell_type": "markdown",
      "metadata": {
        "id": "view-in-github",
        "colab_type": "text"
      },
      "source": [
        "<a href=\"https://colab.research.google.com/github/likevin9911/Daily-Leet-Code/blob/main/2192_All_Ancestors_of_a_Node_in_a_Directed_Acyclic_Graph.ipynb\" target=\"_parent\"><img src=\"https://colab.research.google.com/assets/colab-badge.svg\" alt=\"Open In Colab\"/></a>"
      ]
    },
    {
      "cell_type": "code",
      "execution_count": 14,
      "metadata": {
        "colab": {
          "base_uri": "https://localhost:8080/"
        },
        "id": "EuTSs1e3Cpc_",
        "outputId": "49cc3a8a-b305-493b-dc94-5f377efafa72"
      },
      "outputs": [
        {
          "output_type": "stream",
          "name": "stdout",
          "text": [
            "Overwriting directed_acrylic_graph.cpp\n"
          ]
        }
      ],
      "source": [
        "%%writefile directed_acrylic_graph.cpp\n",
        "#include <iostream>\n",
        "#include <vector>\n",
        "#include <string>\n",
        "#include <unordered_set>\n",
        "\n",
        "using namespace std;\n",
        "\n",
        "class Solution {\n",
        "public:\n",
        "  vector<vector<int>> getAncestors(int n, vector<vector<int>>& edges) {\n",
        "    vector<vector<int>> adjacencyList(n);\n",
        "    for (auto& edge : edges) {\n",
        "      int from = edge[0];\n",
        "      int to = edge[1];\n",
        "      adjacencyList[to].push_back(from);\n",
        "    }\n",
        "\n",
        "    vector<vector<int>> ancestorsList;\n",
        "    for (int i = 0; i < n; i++) {\n",
        "      vector<int> ancestors;\n",
        "      unordered_set<int> visited;\n",
        "      findChildren(i, adjacencyList, visited);\n",
        "\n",
        "      for (int node = 0; node < n; node++) {\n",
        "          if (node == i) continue;\n",
        "          if (visited.find(node) != visited.end()) ancestors.push_back(node);\n",
        "      }\n",
        "      ancestorsList.push_back(ancestors);\n",
        "    }\n",
        "\n",
        "    return ancestorsList;\n",
        "  }\n",
        "\n",
        "private:\n",
        "  void findChildren(int currentNode, vector<vector<int>>& adjacencyList, unordered_set<int>& visitedNodes) {\n",
        "    visitedNodes.insert(currentNode);\n",
        "\n",
        "    for (int neighbour : adjacencyList[currentNode]) {\n",
        "      if (visitedNodes.find(neighbour) == visitedNodes.end()) {\n",
        "        findChildren(neighbour, adjacencyList, visitedNodes);\n",
        "      }\n",
        "    }\n",
        "  }\n",
        "};\n",
        "\n",
        "vector<vector<int>> getAncestors(int n, vector<vector<int>>& edges) {\n",
        "    Solution solution;\n",
        "    return solution.getAncestors(n, edges);\n",
        "}\n",
        "\n",
        "int main() {\n",
        "    int n = 6;\n",
        "    vector<vector<int>> edges = {{0, 3}, {0, 4}, {1, 3}, {2, 4}, {3, 5}, {4, 5}};\n",
        "\n",
        "    vector<vector<int>> ancestors = getAncestors(n, edges);\n",
        "\n",
        "    for (int i = 0; i < ancestors.size(); ++i) {\n",
        "        cout << \"Node \" << i << \": \";\n",
        "        for (int ancestor : ancestors[i]) {\n",
        "            cout << ancestor << \" \";\n",
        "        }\n",
        "        cout << endl;\n",
        "    }\n",
        "\n",
        "    return 0;\n",
        "}"
      ]
    },
    {
      "cell_type": "code",
      "source": [
        "!g++ -std=c++17 directed_acrylic_graph.cpp -o directed_acrylic_graph\n",
        "!./directed_acrylic_graph"
      ],
      "metadata": {
        "colab": {
          "base_uri": "https://localhost:8080/"
        },
        "id": "PPBL2e4ODkQO",
        "outputId": "9ffdd40d-51bd-4aa4-b019-e5b938a31cca"
      },
      "execution_count": 15,
      "outputs": [
        {
          "output_type": "stream",
          "name": "stdout",
          "text": [
            "Node 0: \n",
            "Node 1: \n",
            "Node 2: \n",
            "Node 3: 0 1 \n",
            "Node 4: 0 2 \n",
            "Node 5: 0 1 2 3 4 \n"
          ]
        }
      ]
    }
  ]
}