{
  "nbformat": 4,
  "nbformat_minor": 0,
  "metadata": {
    "colab": {
      "provenance": [],
      "authorship_tag": "ABX9TyNpsKvueFqcTQs04aS1q1HB",
      "include_colab_link": true
    },
    "kernelspec": {
      "name": "python3",
      "display_name": "Python 3"
    },
    "language_info": {
      "name": "python"
    }
  },
  "cells": [
    {
      "cell_type": "markdown",
      "metadata": {
        "id": "view-in-github",
        "colab_type": "text"
      },
      "source": [
        "<a href=\"https://colab.research.google.com/github/likevin9911/Daily-Leet-Code/blob/main/2220_minimum_binary_flips.ipynb\" target=\"_parent\"><img src=\"https://colab.research.google.com/assets/colab-badge.svg\" alt=\"Open In Colab\"/></a>"
      ]
    },
    {
      "cell_type": "code",
      "execution_count": 1,
      "metadata": {
        "colab": {
          "base_uri": "https://localhost:8080/"
        },
        "id": "_gxNJHbtrszg",
        "outputId": "cc9dffb1-a06c-4959-ba13-9ba608ab617d"
      },
      "outputs": [
        {
          "output_type": "stream",
          "name": "stdout",
          "text": [
            "Enter start value: 10\n",
            "Enter goal value: 20\n",
            "Minimum bit flips required: 4\n"
          ]
        }
      ],
      "source": [
        "class Solution:\n",
        "    def minBitFlips(self, start: int, goal: int) -> int:\n",
        "        count = 0\n",
        "        while start or goal: #compare last bit\n",
        "            if (start & 1) != (goal & 1):\n",
        "                count += 1\n",
        "            start = start // 2 #shift to the right\n",
        "            goal = goal //2\n",
        "\n",
        "        return count\n",
        "\n",
        "if __name__ == \"__main__\":\n",
        "    solution = Solution()\n",
        "\n",
        "    start = int(input(\"Enter start value: \"))\n",
        "    goal = int(input(\"Enter goal value: \"))\n",
        "\n",
        "    result = solution.minBitFlips(start, goal)\n",
        "    print(f\"Minimum bit flips required: {result}\")"
      ]
    }
  ]
}