{
  "nbformat": 4,
  "nbformat_minor": 0,
  "metadata": {
    "colab": {
      "provenance": [],
      "authorship_tag": "ABX9TyOAnGy5f2vMNZg/M0XAg/m0",
      "include_colab_link": true
    },
    "kernelspec": {
      "name": "python3",
      "display_name": "Python 3"
    },
    "language_info": {
      "name": "python"
    }
  },
  "cells": [
    {
      "cell_type": "markdown",
      "metadata": {
        "id": "view-in-github",
        "colab_type": "text"
      },
      "source": [
        "<a href=\"https://colab.research.google.com/github/likevin9911/Daily-Leet-Code/blob/main/LC409_longest_palindrome.ipynb\" target=\"_parent\"><img src=\"https://colab.research.google.com/assets/colab-badge.svg\" alt=\"Open In Colab\"/></a>"
      ]
    },
    {
      "cell_type": "markdown",
      "source": [
        "# 409. Longest Palindrome\n",
        "Given a string s which consists of lowercase or uppercase letters, return the length of the longest\n",
        "palindrome\n",
        " that can be built with those letters.\n",
        "\n",
        "Letters are case sensitive, for example, \"Aa\" is not considered a palindrome.\n",
        "\n",
        "**Example 1:**\n",
        "*Input: s = \"abccccdd\"\n",
        "Output: 7\n",
        "Explanation: One longest palindrome that can be built is \"dccaccd\", whose length is 7.*\n",
        "\n",
        "**Example 2:**\n",
        "*Input: s = \"a\"\n",
        "Output: 1\n",
        "Explanation: The longest palindrome that can be built is \"a\", whose length is 1.*\n",
        "\n",
        "**Constraints:**\n",
        "*1 <= s.length <= 2000\n",
        "s consists of lowercase and/or uppercase English letters only.*"
      ],
      "metadata": {
        "id": "AAbG5Nk88VUF"
      }
    },
    {
      "cell_type": "code",
      "execution_count": 14,
      "metadata": {
        "colab": {
          "base_uri": "https://localhost:8080/"
        },
        "id": "nyESdkPzvPv9",
        "outputId": "f2d79319-79c0-41bb-cb84-99d4c6085d45"
      },
      "outputs": [
        {
          "output_type": "stream",
          "name": "stdout",
          "text": [
            "Overwriting longest_palindrome_409.cpp\n"
          ]
        }
      ],
      "source": [
        "%%writefile longest_palindrome_409.cpp\n",
        "#include <bits/stdc++.h>\n",
        "#include <iostream>\n",
        "#include <vector>\n",
        "#include <string>\n",
        "\n",
        "using namespace std;\n",
        "\n",
        "class Solution {\n",
        "public:\n",
        "    int longestPalindrome(string s) {\n",
        "        unordered_set<char> charSet;\n",
        "        int res = 0;\n",
        "\n",
        "        for(char c : s) {\n",
        "            if (charSet.find(c) != charSet.end()) {\n",
        "                charSet.erase(c);\n",
        "                res += 2;\n",
        "            } else {\n",
        "                charSet.insert(c);\n",
        "            }\n",
        "        }\n",
        "\n",
        "        if (!charSet.empty()) {\n",
        "            res++;\n",
        "        }\n",
        "        return res;\n",
        "\n",
        "    }\n",
        "\n",
        "};\n",
        "\n",
        "int main() {\n",
        "  Solution sol;\n",
        "  string s = \"abccccdd\";\n",
        "\n",
        "  cout << sol.longestPalindrome(s) << endl;\n",
        "  return 0;\n",
        "}"
      ]
    },
    {
      "cell_type": "code",
      "source": [
        "!g++ longest_palindrome_409.cpp -o longest_palindrome_409\n",
        "!./longest_palindrome_409"
      ],
      "metadata": {
        "colab": {
          "base_uri": "https://localhost:8080/"
        },
        "id": "-1Dc_PF-vh76",
        "outputId": "fd022dfc-f77c-4a93-dae0-6958f1bf2002"
      },
      "execution_count": 15,
      "outputs": [
        {
          "output_type": "stream",
          "name": "stdout",
          "text": [
            "7\n"
          ]
        }
      ]
    }
  ]
}