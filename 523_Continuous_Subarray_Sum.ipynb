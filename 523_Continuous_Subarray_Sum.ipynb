{
  "nbformat": 4,
  "nbformat_minor": 0,
  "metadata": {
    "colab": {
      "provenance": [],
      "authorship_tag": "ABX9TyOAE00Lm3C7kUoHBAxZIxUY",
      "include_colab_link": true
    },
    "kernelspec": {
      "name": "python3",
      "display_name": "Python 3"
    },
    "language_info": {
      "name": "python"
    }
  },
  "cells": [
    {
      "cell_type": "markdown",
      "metadata": {
        "id": "view-in-github",
        "colab_type": "text"
      },
      "source": [
        "<a href=\"https://colab.research.google.com/github/likevin9911/Daily-Leet-Code/blob/main/523_Continuous_Subarray_Sum.ipynb\" target=\"_parent\"><img src=\"https://colab.research.google.com/assets/colab-badge.svg\" alt=\"Open In Colab\"/></a>"
      ]
    },
    {
      "cell_type": "code",
      "execution_count": 4,
      "metadata": {
        "colab": {
          "base_uri": "https://localhost:8080/"
        },
        "id": "M3hmPeBNKwZB",
        "outputId": "0c4d99e2-68cc-4d88-a286-8f2a1ce46986"
      },
      "outputs": [
        {
          "output_type": "stream",
          "name": "stdout",
          "text": [
            "Overwriting cont_sub_sum.cpp\n"
          ]
        }
      ],
      "source": [
        "%%writefile cont_sub_sum.cpp\n",
        "#include <bits/stdc++.h>\n",
        "using namespace std;\n",
        "class Solution {\n",
        "public:\n",
        "    bool checkSubarraySum(vector<int>& nums, int k) {\n",
        "        int prefixMod = 0;\n",
        "        unordered_map<int, int> modSeen;\n",
        "        modSeen[0] = -1;\n",
        "        for (int i = 0; i < nums.size(); i++) {\n",
        "            prefixMod = (prefixMod +nums[i]) % k;\n",
        "\n",
        "            if (modSeen.find(prefixMod) != modSeen.end()) {\n",
        "                if (i - modSeen[prefixMod] > 1) {\n",
        "                    return 1;\n",
        "                }\n",
        "            } else {\n",
        "                modSeen[prefixMod] = i;\n",
        "\n",
        "            }\n",
        "        }\n",
        "\n",
        "        return 0;\n",
        "    }\n",
        "\n",
        "};\n",
        "\n",
        "int main() {\n",
        "    Solution solution;\n",
        "    vector<int> nums = {23,2,4,6,7};\n",
        "    int k = 6;\n",
        "    cout << solution.checkSubarraySum(nums, k) << endl;\n",
        "\n",
        "    return 0;\n",
        "}\n"
      ]
    },
    {
      "cell_type": "code",
      "source": [
        "!g++ cont_sub_sum.cpp -o cont_sub_sum"
      ],
      "metadata": {
        "id": "HuudJj1_Lm9q"
      },
      "execution_count": 5,
      "outputs": []
    },
    {
      "cell_type": "code",
      "source": [
        "!./cont_sub_sum"
      ],
      "metadata": {
        "colab": {
          "base_uri": "https://localhost:8080/"
        },
        "id": "Y38I34HNLuBy",
        "outputId": "283a19a2-1fc8-48cb-fd81-23262edfca85"
      },
      "execution_count": 7,
      "outputs": [
        {
          "output_type": "stream",
          "name": "stdout",
          "text": [
            "1\n"
          ]
        }
      ]
    }
  ]
}