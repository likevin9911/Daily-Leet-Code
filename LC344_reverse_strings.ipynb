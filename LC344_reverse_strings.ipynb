{
  "nbformat": 4,
  "nbformat_minor": 0,
  "metadata": {
    "colab": {
      "provenance": [],
      "gpuType": "T4",
      "authorship_tag": "ABX9TyNql+w0mrceaLUB2ARl8Wvr",
      "include_colab_link": true
    },
    "kernelspec": {
      "name": "python3",
      "display_name": "Python 3"
    },
    "language_info": {
      "name": "python"
    },
    "accelerator": "GPU"
  },
  "cells": [
    {
      "cell_type": "markdown",
      "metadata": {
        "id": "view-in-github",
        "colab_type": "text"
      },
      "source": [
        "<a href=\"https://colab.research.google.com/github/likevin9911/Daily-Leet-Code/blob/main/LC344_reverse_strings.ipynb\" target=\"_parent\"><img src=\"https://colab.research.google.com/assets/colab-badge.svg\" alt=\"Open In Colab\"/></a>"
      ]
    },
    {
      "cell_type": "code",
      "execution_count": 14,
      "metadata": {
        "id": "IkvdX4fDFGlo",
        "colab": {
          "base_uri": "https://localhost:8080/"
        },
        "outputId": "6d61f348-de89-4146-d255-5663f1c2c282"
      },
      "outputs": [
        {
          "output_type": "stream",
          "name": "stdout",
          "text": [
            "Overwriting reverse_string_344.cpp\n"
          ]
        }
      ],
      "source": [
        "%%writefile reverse_string_344.cpp\n",
        "#include <vector>\n",
        "#include <iostream>\n",
        "\n",
        "class Solution {\n",
        "public:\n",
        "    void reverseString(std::vector<char>& s) {\n",
        "        int i = 0;\n",
        "        int j = s.size()-1;\n",
        "\n",
        "        while (i<j) {\n",
        "            if(i < j ){\n",
        "            //c create temp memory\n",
        "                char temp = s[i];\n",
        "                s[i] = s[j];\n",
        "                s[j] = temp;\n",
        "                ++i;\n",
        "                --j;\n",
        "        } else {\n",
        "            break;\n",
        "        }\n",
        "\n",
        "    }\n",
        "    }\n",
        "\n",
        "};\n",
        "\n",
        "int main() {\n",
        "  std::vector<char> s = {'p', 'i', 'c', 'k', 'l', 'e'};\n",
        "  Solution solution;\n",
        "  solution.reverseString(s);\n",
        "\n",
        "  for (char c : s) {\n",
        "    std::cout << c;\n",
        "  }\n",
        "  std::cout << std::endl;\n",
        "\n",
        "  return 0;\n",
        "}"
      ]
    },
    {
      "cell_type": "code",
      "source": [
        "!g++ reverse_string_344.cpp -o reverse_string_344"
      ],
      "metadata": {
        "id": "YbrZl6O_gVmv"
      },
      "execution_count": 15,
      "outputs": []
    },
    {
      "cell_type": "code",
      "source": [
        "!./reverse_string_344"
      ],
      "metadata": {
        "colab": {
          "base_uri": "https://localhost:8080/"
        },
        "id": "WiO-73K0huzT",
        "outputId": "2b920b6c-de17-4b0e-f7cb-8733825943b2"
      },
      "execution_count": 16,
      "outputs": [
        {
          "output_type": "stream",
          "name": "stdout",
          "text": [
            "elkcip\n"
          ]
        }
      ]
    },
    {
      "cell_type": "markdown",
      "source": [
        "# **Time Complexity Calculations**"
      ],
      "metadata": {
        "id": "rdSK6GAZici8"
      }
    },
    {
      "cell_type": "code",
      "source": [
        "%%writefile reverse_string_with_complexity.cpp\n",
        "#include <vector>\n",
        "#include <iostream>\n",
        "\n",
        "class Solution {\n",
        "public:\n",
        "    void reverseString(std::vector<char>& s) {\n",
        "        int i = 0;\n",
        "        int j = s.size() - 1;\n",
        "\n",
        "        // The while loop will run n/2 times where n is the size of the string\n",
        "        while (i < j) {\n",
        "            if (i < j) {\n",
        "                // O(1) operation: swapping elements\n",
        "                char temp = s[i];\n",
        "                s[i] = s[j];\n",
        "                s[j] = temp;\n",
        "                ++i;  // O(1) increment operation\n",
        "                --j;  // O(1) decrement operation\n",
        "            } else {\n",
        "                break;  // Redundant due to while condition, but O(1) operation\n",
        "            }\n",
        "        }\n",
        "    }\n",
        "};\n",
        "\n",
        "int main() {\n",
        "    std::vector<char> s = {'h', 'e', 'l', 'l', 'o'};\n",
        "    Solution solution;\n",
        "    solution.reverseString(s);\n",
        "\n",
        "    // O(n) operation: printing all elements\n",
        "    for (char c : s) {\n",
        "        std::cout << c;\n",
        "    }\n",
        "    std::cout << std::endl;\n",
        "\n",
        "    return 0;\n",
        "}\n"
      ],
      "metadata": {
        "colab": {
          "base_uri": "https://localhost:8080/"
        },
        "id": "DSfH_ONiib6X",
        "outputId": "ac9e8721-83bf-46ca-f18b-24cc3eb96a66"
      },
      "execution_count": 19,
      "outputs": [
        {
          "output_type": "stream",
          "name": "stdout",
          "text": [
            "Overwriting reverse_string_with_complexity.cpp\n"
          ]
        }
      ]
    },
    {
      "cell_type": "code",
      "source": [
        "!g++ reverse_string_with_complexity.cpp -o reverse_string_with_complexity"
      ],
      "metadata": {
        "id": "BWjAoAzdilmR"
      },
      "execution_count": 20,
      "outputs": []
    },
    {
      "cell_type": "code",
      "source": [
        "!./reverse_string_with_complexity"
      ],
      "metadata": {
        "colab": {
          "base_uri": "https://localhost:8080/"
        },
        "id": "IJ5NSSXdi1tF",
        "outputId": "7db1e5b1-c94c-4e20-d554-ea1cf4c4a00a"
      },
      "execution_count": 21,
      "outputs": [
        {
          "output_type": "stream",
          "name": "stdout",
          "text": [
            "olleh\n"
          ]
        }
      ]
    }
  ]
}