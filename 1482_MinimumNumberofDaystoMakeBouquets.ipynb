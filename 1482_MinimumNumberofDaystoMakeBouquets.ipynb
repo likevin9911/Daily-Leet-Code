{
  "nbformat": 4,
  "nbformat_minor": 0,
  "metadata": {
    "colab": {
      "provenance": [],
      "authorship_tag": "ABX9TyNQOCXnQwqFZZIUT072zSOT",
      "include_colab_link": true
    },
    "kernelspec": {
      "name": "python3",
      "display_name": "Python 3"
    },
    "language_info": {
      "name": "python"
    }
  },
  "cells": [
    {
      "cell_type": "markdown",
      "metadata": {
        "id": "view-in-github",
        "colab_type": "text"
      },
      "source": [
        "<a href=\"https://colab.research.google.com/github/likevin9911/Daily-Leet-Code/blob/main/1482_MinimumNumberofDaystoMakeBouquets.ipynb\" target=\"_parent\"><img src=\"https://colab.research.google.com/assets/colab-badge.svg\" alt=\"Open In Colab\"/></a>"
      ]
    },
    {
      "cell_type": "code",
      "execution_count": 4,
      "metadata": {
        "colab": {
          "base_uri": "https://localhost:8080/"
        },
        "id": "oSM0COysrHjF",
        "outputId": "8f949382-05fa-40ed-9c3d-35e1f65ab3a0"
      },
      "outputs": [
        {
          "output_type": "stream",
          "name": "stdout",
          "text": [
            "Overwriting bloom.cpp\n"
          ]
        }
      ],
      "source": [
        "%%writefile bloom.cpp\n",
        "#include <iostream>\n",
        "#include <vector>\n",
        "#include <algorithm>\n",
        "using namespace std;\n",
        "class Solution {\n",
        "  public:\n",
        "    int minDays(vector<int>& bloomDay, int m, int k) {\n",
        "      if((long long)m * k > bloomDay.size()) {\n",
        "          return -1;\n",
        "      }\n",
        "\n",
        "      int low = -1;\n",
        "      int high = 1e9;\n",
        "      while (low < high) {\n",
        "          int mid = low + (high - low) / 2;\n",
        "\n",
        "          if (canMake(bloomDay, m, k, mid)) {\n",
        "              high = mid;\n",
        "          } else {\n",
        "              low = mid + 1;\n",
        "          }\n",
        "      };\n",
        "      return low;\n",
        "    }\n",
        "    private:\n",
        "      bool canMake(vector<int>& bloomDay, int m, int k, int day) {\n",
        "      int total = 0;\n",
        "\n",
        "      for (int i = 0; i < bloomDay.size(); i++) {\n",
        "          int count = 0;\n",
        "          while (i < bloomDay.size() && count < k && bloomDay[i] <= day) {\n",
        "              count++;\n",
        "              i++;\n",
        "          }\n",
        "\n",
        "          if (count == k) {\n",
        "              total++;\n",
        "              i--;\n",
        "          }\n",
        "\n",
        "          if (total >= m) {\n",
        "              return true;\n",
        "          }\n",
        "      }\n",
        "\n",
        "      return false;\n",
        "    }\n",
        "\n",
        "};\n",
        "\n",
        "int main() {\n",
        "  vector<int> bloomDay = {1,10,3,10,2};\n",
        "  int m = 3;\n",
        "  int k = 4;\n",
        "  Solution s;\n",
        "  cout << s.minDays(bloomDay, m, k) << endl;\n",
        "}"
      ]
    },
    {
      "cell_type": "code",
      "source": [
        "!g++ bloom.cpp -o bloom\n",
        "!./bloom"
      ],
      "metadata": {
        "colab": {
          "base_uri": "https://localhost:8080/"
        },
        "id": "OWeFxY3urt2t",
        "outputId": "850cc339-2955-4b51-9a3b-d23c95b9971d"
      },
      "execution_count": 5,
      "outputs": [
        {
          "output_type": "stream",
          "name": "stdout",
          "text": [
            "-1\n"
          ]
        }
      ]
    }
  ]
}