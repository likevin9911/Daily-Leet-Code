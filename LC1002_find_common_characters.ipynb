{
  "nbformat": 4,
  "nbformat_minor": 0,
  "metadata": {
    "colab": {
      "provenance": [],
      "authorship_tag": "ABX9TyOMoTQcZGxcQHIeOTgkY45Z",
      "include_colab_link": true
    },
    "kernelspec": {
      "name": "python3",
      "display_name": "Python 3"
    },
    "language_info": {
      "name": "python"
    }
  },
  "cells": [
    {
      "cell_type": "markdown",
      "metadata": {
        "id": "view-in-github",
        "colab_type": "text"
      },
      "source": [
        "<a href=\"https://colab.research.google.com/github/likevin9911/Daily-Leet-Code/blob/main/LC1002_find_common_characters.ipynb\" target=\"_parent\"><img src=\"https://colab.research.google.com/assets/colab-badge.svg\" alt=\"Open In Colab\"/></a>"
      ]
    },
    {
      "cell_type": "code",
      "execution_count": 18,
      "metadata": {
        "id": "lcQGysIheavn",
        "colab": {
          "base_uri": "https://localhost:8080/"
        },
        "outputId": "8d8716ad-2ac7-4af0-e84d-d33301dd34e9"
      },
      "outputs": [
        {
          "output_type": "stream",
          "name": "stdout",
          "text": [
            "Overwriting find_common_characters_1002.cpp\n"
          ]
        }
      ],
      "source": [
        "%%writefile find_common_characters_1002.cpp\n",
        "#include <string>\n",
        "#include <iostream>\n",
        "#include <vector>\n",
        "#include <algorithm>\n",
        "\n",
        "using namespace std;\n",
        "\n",
        "class Solution {\n",
        "public:\n",
        "    vector<string> commonChars(vector<string>& words) {\n",
        "       vector<string> result;\n",
        "       int words_size = words.size();\n",
        "       vector<int> commonCharacterCounts(26), currentCharacterCounts(26);\n",
        "\n",
        "        for (char& ch : words[0]) {\n",
        "            commonCharacterCounts[ch - 'a']++;\n",
        "        }\n",
        "\n",
        "        for (int i = 1; i < words.size(); i++) {\n",
        "            fill(currentCharacterCounts.begin(), currentCharacterCounts.end(), 0);\n",
        "\n",
        "            for (char& ch : words[i]) {\n",
        "                currentCharacterCounts[ch - 'a']++;\n",
        "            }\n",
        "\n",
        "            for (int letter = 0; letter < 26; letter++) {\n",
        "                commonCharacterCounts[letter] = min(commonCharacterCounts[letter], currentCharacterCounts[letter]);\n",
        "            }\n",
        "        }\n",
        "\n",
        "        for (int letter = 0; letter < 26; letter++) {\n",
        "            for (int commonCount = 0; commonCount < commonCharacterCounts[letter]; commonCount++) {\n",
        "                result.push_back(string(1, letter + 'a'));\n",
        "            }\n",
        "        }\n",
        "        return result;\n",
        "    }\n",
        "};\n",
        "\n",
        "\n",
        "\n",
        "\n",
        "// Driven Code\n",
        "int main() {\n",
        "  Solution sol;\n",
        "  vector<string> words = {\"bella\",\"label\",\"roller\"};\n",
        "  vector<string> common_chars = sol.commonChars(words);\n",
        "\n",
        "    for (const string& ch : common_chars) {\n",
        "        cout << ch << \" \";\n",
        "    }\n",
        "    cout << endl;\n",
        "    return 0;\n",
        "  return 0;\n",
        "}\n"
      ]
    },
    {
      "cell_type": "code",
      "source": [
        "!g++ find_common_characters_1002.cpp -o find_common_characters_1002\n",
        "!./find_common_characters_1002"
      ],
      "metadata": {
        "colab": {
          "base_uri": "https://localhost:8080/"
        },
        "id": "pfHlzbaKraFP",
        "outputId": "3c7fceab-4616-4dbc-d9bd-7cfbcc176ac5"
      },
      "execution_count": 19,
      "outputs": [
        {
          "output_type": "stream",
          "name": "stdout",
          "text": [
            "e l l \n"
          ]
        }
      ]
    }
  ]
}