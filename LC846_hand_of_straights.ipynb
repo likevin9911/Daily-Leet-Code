{
  "nbformat": 4,
  "nbformat_minor": 0,
  "metadata": {
    "colab": {
      "provenance": [],
      "authorship_tag": "ABX9TyPBy7qFcLaSZhrMYnULBpld",
      "include_colab_link": true
    },
    "kernelspec": {
      "name": "python3",
      "display_name": "Python 3"
    },
    "language_info": {
      "name": "python"
    }
  },
  "cells": [
    {
      "cell_type": "markdown",
      "metadata": {
        "id": "view-in-github",
        "colab_type": "text"
      },
      "source": [
        "<a href=\"https://colab.research.google.com/github/likevin9911/Daily-Leet-Code/blob/main/LC846_hand_of_straights.ipynb\" target=\"_parent\"><img src=\"https://colab.research.google.com/assets/colab-badge.svg\" alt=\"Open In Colab\"/></a>"
      ]
    },
    {
      "cell_type": "markdown",
      "source": [
        "# 846. Hand of Straights\n",
        "\n",
        "Alice has some number of cards and she wants to rearrange the cards into groups so that each group is of size groupSize, and consists of groupSize consecutive cards.\n",
        "\n",
        "Given an integer array hand where hand[i] is the value written on the ith card and an integer groupSize, return true if she can rearrange the cards, or false otherwise.\n",
        "\n",
        "\n",
        "\n",
        "**Example 1:**\n",
        "\n",
        "Input: hand = [1,2,3,6,2,3,4,7,8], groupSize = 3\n",
        "Output: true\n",
        "Explanation: Alice's hand can be rearranged as [1,2,3],[2,3,4],[6,7,8]\n",
        "\n",
        "**Example 2:**\n",
        "\n",
        "Input: hand = [1,2,3,4,5], groupSize = 4\n",
        "Output: false\n",
        "Explanation: Alice's hand can not be rearranged into groups of 4.\n",
        "\n",
        "**Constraints:**\n",
        "\n",
        "1 <= hand.length <= 104\n",
        "\n",
        "0 <= hand[i] <= 109\n",
        "\n",
        "1 <= groupSize <= hand.length\n"
      ],
      "metadata": {
        "id": "nlbUD78ih4jx"
      }
    },
    {
      "cell_type": "code",
      "execution_count": 7,
      "metadata": {
        "colab": {
          "base_uri": "https://localhost:8080/"
        },
        "id": "kr2Qtan9g2sJ",
        "outputId": "7e5ffac3-654e-4e21-e58d-d642cd553bf4"
      },
      "outputs": [
        {
          "output_type": "stream",
          "name": "stdout",
          "text": [
            "Overwriting hand_of_straights.cpp\n"
          ]
        }
      ],
      "source": [
        "%%writefile hand_of_straights.cpp\n",
        "#include <bits/stdc++.h>\n",
        "#include <iostream>\n",
        "#include <vector>\n",
        "#include <map>\n",
        "\n",
        "using namespace std;\n",
        "\n",
        "class Solution {\n",
        "public:\n",
        "    bool isNStraightHand(vector<int>& hand, int groupSize) {\n",
        "       int handSize = hand.size();\n",
        "\n",
        "       if (handSize % groupSize != 0) {\n",
        "        return false;\n",
        "       }\n",
        "\n",
        "       map<int, int> frequency;\n",
        "       for (int i = 0; i < handSize; i++) {\n",
        "        frequency[hand[i]]++;\n",
        "       }\n",
        "\n",
        "       while (!frequency.empty()) {\n",
        "        int card = frequency.begin() -> first;\n",
        "\n",
        "        for(int i = 0; i < groupSize; i++) {\n",
        "            if (frequency[card + i] == 0) {\n",
        "                return false;\n",
        "            }\n",
        "            frequency[card + i]--;\n",
        "            if (frequency[card + i] < 1) {\n",
        "                frequency.erase(card + i);\n",
        "            }\n",
        "        }\n",
        "\n",
        "       }\n",
        "        return true;\n",
        "    }\n",
        "};\n",
        "\n",
        "int main() {\n",
        "  Solution solution;\n",
        "  vector<int> hand = {1,2,3,6,2,3,4,7,8};\n",
        "  int groupSize = 3;\n",
        "  cout << solution.isNStraightHand(hand, groupSize);\n",
        "  return 0;\n",
        "}"
      ]
    },
    {
      "cell_type": "code",
      "source": [
        "!g++ hand_of_straights.cpp -o hand_of_straights\n",
        "!./hand_of_straights"
      ],
      "metadata": {
        "colab": {
          "base_uri": "https://localhost:8080/"
        },
        "id": "XW1Jt6g3HDrU",
        "outputId": "0075854f-d04c-4dc3-cbcc-f4917b4f236a"
      },
      "execution_count": 8,
      "outputs": [
        {
          "output_type": "stream",
          "name": "stdout",
          "text": [
            "1"
          ]
        }
      ]
    }
  ]
}