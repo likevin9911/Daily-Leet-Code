{
  "nbformat": 4,
  "nbformat_minor": 0,
  "metadata": {
    "colab": {
      "provenance": [],
      "gpuType": "T4",
      "authorship_tag": "ABX9TyMTKDcCk0a6rRsqYIo5+5ga",
      "include_colab_link": true
    },
    "kernelspec": {
      "name": "python3",
      "display_name": "Python 3"
    },
    "language_info": {
      "name": "python"
    },
    "accelerator": "GPU"
  },
  "cells": [
    {
      "cell_type": "markdown",
      "metadata": {
        "id": "view-in-github",
        "colab_type": "text"
      },
      "source": [
        "<a href=\"https://colab.research.google.com/github/likevin9911/Daily-Leet-Code/blob/main/LC2486_Append_twoPointers.ipynb\" target=\"_parent\"><img src=\"https://colab.research.google.com/assets/colab-badge.svg\" alt=\"Open In Colab\"/></a>"
      ]
    },
    {
      "cell_type": "markdown",
      "source": [
        "# Append Characters to String to Make Subsequence:\n",
        "You are given two strings s and t consisting of only lowercase English letters.\n",
        "Return the minimum number of characters that need to be appended to the end of s so that t becomes a subsequence of s.\n",
        "A subsequence is a string that can be derived from another string by deleting some or no characters without changing the order of the remaining characters\n",
        "\n",
        "**Example 1:**\n",
        "\n",
        "Input: s = \"coaching\", t = \"coding\"\n",
        "Output: 4\n",
        "Explanation: Append the characters \"ding\" to the end of s so that s = \"coachingding\".\n",
        "Now, t is a subsequence of s (\"coachingding\").\n",
        "It can be shown that appending any 3 characters to the end of s will never make t a subsequence.\n",
        "\n",
        "**Example 2:**\n",
        "\n",
        "Input: s = \"abcde\", t = \"a\"\n",
        "Output: 0\n",
        "Explanation: t is already a subsequence of s (\"abcde\").\n",
        "\n",
        "**Example 3:**\n",
        "\n",
        "Input: s = \"z\", t = \"abcde\"\n",
        "Output: 5\n",
        "Explanation: Append the characters \"abcde\" to the end of s so that s = \"zabcde\".\n",
        "Now, t is a subsequence of s (\"zabcde\").\n",
        "It can be shown that appending any 4 characters to the end of s will never make t a subsequence.\n",
        "\n",
        "\n",
        "**Constraints:**\n",
        "\n",
        "1 <= s.length, t.length <= 105\n",
        "\n",
        "s and t consist only of lowercase English letters."
      ],
      "metadata": {
        "id": "JbVtdFS7WN8G"
      }
    },
    {
      "cell_type": "markdown",
      "source": [],
      "metadata": {
        "id": "CsEV5EQJWwEC"
      }
    },
    {
      "cell_type": "code",
      "execution_count": 15,
      "metadata": {
        "id": "IkvdX4fDFGlo",
        "colab": {
          "base_uri": "https://localhost:8080/"
        },
        "outputId": "ad871ce7-15b1-4fcb-b121-78b3a66da7f6"
      },
      "outputs": [
        {
          "output_type": "stream",
          "name": "stdout",
          "text": [
            "Overwriting TwoPointers_Append_2486.cpp\n"
          ]
        }
      ],
      "source": [
        "%%writefile TwoPointers_Append_2486.cpp\n",
        "#include <string>\n",
        "#include <iostream>\n",
        "\n",
        "\n",
        "using namespace std;\n",
        "\n",
        "class Solution {\n",
        "public:\n",
        "  int appendCharacters(string s, string t) {\n",
        "    int s_len = s.length();\n",
        "    int t_len = t.length();\n",
        "    int s_ind = 0;\n",
        "    int t_ind = 0;\n",
        "\n",
        "    while(s_ind < s_len && t_ind < t_len) {\n",
        "        if(s[s_ind] == t[t_ind]) {\n",
        "            t_ind++;\n",
        "        }\n",
        "        s_ind++;\n",
        "    }\n",
        "    return t_len - t_ind;\n",
        "  }\n",
        "};\n",
        "\n",
        "// Driven Code\n",
        "int main() {\n",
        "  Solution sol;\n",
        "    string s = \"digger\";\n",
        "    string t = \"biggerdiagram\";\n",
        "\n",
        "    cout << sol.appendCharacters(s, t) << endl;\n",
        "\n",
        "    return 0;\n",
        "}"
      ]
    },
    {
      "cell_type": "code",
      "source": [
        "!g++ TwoPointers_Append_2486.cpp -o TwoPointers_Append_2486"
      ],
      "metadata": {
        "id": "YbrZl6O_gVmv"
      },
      "execution_count": 16,
      "outputs": []
    },
    {
      "cell_type": "code",
      "source": [
        "!./TwoPointers_Append_2486"
      ],
      "metadata": {
        "colab": {
          "base_uri": "https://localhost:8080/"
        },
        "id": "WiO-73K0huzT",
        "outputId": "926f5dcc-9059-4a98-ef02-bb6f8fd91248"
      },
      "execution_count": 17,
      "outputs": [
        {
          "output_type": "stream",
          "name": "stdout",
          "text": [
            "13\n"
          ]
        }
      ]
    }
  ]
}