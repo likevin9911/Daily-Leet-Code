{
  "nbformat": 4,
  "nbformat_minor": 0,
  "metadata": {
    "colab": {
      "provenance": [],
      "authorship_tag": "ABX9TyO8gXh2fgmuy/5ztlY1V1eF",
      "include_colab_link": true
    },
    "kernelspec": {
      "name": "python3",
      "display_name": "Python 3"
    },
    "language_info": {
      "name": "python"
    }
  },
  "cells": [
    {
      "cell_type": "markdown",
      "metadata": {
        "id": "view-in-github",
        "colab_type": "text"
      },
      "source": [
        "<a href=\"https://colab.research.google.com/github/likevin9911/Daily-Leet-Code/blob/main/1509_Minimum_Difference_Between_Largest_and_Smallest_Value_in_Three_Moves.ipynb\" target=\"_parent\"><img src=\"https://colab.research.google.com/assets/colab-badge.svg\" alt=\"Open In Colab\"/></a>"
      ]
    },
    {
      "cell_type": "code",
      "execution_count": 7,
      "metadata": {
        "colab": {
          "base_uri": "https://localhost:8080/"
        },
        "id": "vFUWS0cYnFld",
        "outputId": "54a628b9-937c-46d2-e28b-cc0414f5f96b"
      },
      "outputs": [
        {
          "output_type": "stream",
          "name": "stdout",
          "text": [
            "Overwriting minDiff.cpp\n"
          ]
        }
      ],
      "source": [
        "%%writefile minDiff.cpp\n",
        "#include <bits/stdc++.h>\n",
        "#include <iostream>\n",
        "#include <vector>\n",
        "\n",
        "using namespace std;\n",
        "\n",
        "class Solution {\n",
        "public:\n",
        "    int minDifference(vector<int>& nums) {\n",
        "        int s = nums.size(); //store size in variable\n",
        "\n",
        "        if (s < 5) {\n",
        "            return 0; //if less the 5 elements return zero\n",
        "        }\n",
        "\n",
        "        sort(nums.begin(), nums.end()); //sort in ascending order\n",
        "        long long answer = 1LL << 60; // initialize into a large number\n",
        "\n",
        "        for (int leftR = 0; leftR <= 3; ++leftR) {\n",
        "            int rightR = 3 - leftR; //ensure 3 elemts are removed.\n",
        "            answer = min(answer, static_cast<long long>(nums[s - 1 - rightR] - nums[leftR]));\n",
        "        }\n",
        "        return static_cast<int>(answer);\n",
        "    }\n",
        "};\n",
        "\n",
        "int main() {\n",
        "  vector<int> nums = {1, 3, 6, 10, 15};\n",
        "  Solution s;\n",
        "  cout << s.minDifference(nums) << endl;\n",
        "  return 0;\n",
        "}"
      ]
    },
    {
      "cell_type": "code",
      "source": [
        "!g++ minDiff.cpp -o minDiff\n",
        "!./minDiff"
      ],
      "metadata": {
        "colab": {
          "base_uri": "https://localhost:8080/"
        },
        "id": "t4BXGjwznKJY",
        "outputId": "a9abcc1d-1145-4f4b-dcae-1ba15cdeecab"
      },
      "execution_count": 8,
      "outputs": [
        {
          "output_type": "stream",
          "name": "stdout",
          "text": [
            "2\n"
          ]
        }
      ]
    }
  ]
}